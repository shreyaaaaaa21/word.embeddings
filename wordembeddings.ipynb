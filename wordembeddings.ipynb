{
  "nbformat": 4,
  "nbformat_minor": 0,
  "metadata": {
    "colab": {
      "provenance": [],
      "toc_visible": true,
      "authorship_tag": "ABX9TyM63tjCoyP0kRtuk9T84lSd",
      "include_colab_link": true
    },
    "kernelspec": {
      "name": "python3",
      "display_name": "Python 3"
    },
    "language_info": {
      "name": "python"
    }
  },
  "cells": [
    {
      "cell_type": "markdown",
      "metadata": {
        "id": "view-in-github",
        "colab_type": "text"
      },
      "source": [
        "<a href=\"https://colab.research.google.com/github/shreyaaaaaa21/word.embeddings/blob/main/wordembeddings.ipynb\" target=\"_parent\"><img src=\"https://colab.research.google.com/assets/colab-badge.svg\" alt=\"Open In Colab\"/></a>"
      ]
    },
    {
      "cell_type": "code",
      "source": [
        "# @title Default title text\n",
        "for i in range(len(royal_data)):\n",
        "    royal_data[i] = royal_data[i].lower().replace('\\n', '')\n",
        "\n",
        "print(royal_data)"
      ],
      "metadata": {
        "colab": {
          "base_uri": "https://localhost:8080/"
        },
        "id": "2wDoPnBlTAX4",
        "outputId": "0728bc62-ef7a-470c-86eb-39f383a85a8d"
      },
      "execution_count": null,
      "outputs": [
        {
          "output_type": "stream",
          "name": "stdout",
          "text": [
            "['the future king is the prince', 'daughter is the princess', 'son is the prince', 'only a man can be a king', 'only a woman can be a queen', 'the princess will be a queen', 'the prince is a strong man', 'the princess is a beautiful woman', 'prince is only a boy now', 'prince will be king', 'a boy will be a man']\n"
          ]
        }
      ]
    },
    {
      "cell_type": "code",
      "execution_count": null,
      "metadata": {
        "id": "dRUjCs_DR6oL",
        "colab": {
          "base_uri": "https://localhost:8080/"
        },
        "outputId": "7976dc26-1c9d-42b7-94ea-255f509c30a6"
      },
      "outputs": [
        {
          "output_type": "stream",
          "name": "stdout",
          "text": [
            "['The future king is the prince\\n', 'Daughter is the princess\\n', 'Son is the prince\\n', 'Only a man can be a king\\n', 'Only a woman can be a queen\\n', 'The princess will be a queen\\n', 'The prince is a strong man\\n', 'The princess is a beautiful woman\\n', 'Prince is only a boy now\\n', 'Prince will be king\\n', 'A boy will be a man']\n"
          ]
        }
      ],
      "source": [
        "file = open('/content/Royal_data.txt', 'r')\n",
        "royal_data = file.readlines()\n",
        "print(royal_data)\n",
        "file.close()"
      ]
    },
    {
      "cell_type": "code",
      "source": [
        "stopwords = ['the', 'is', 'will', 'be', 'a', 'only', 'can', 'their', 'now', 'and', 'at', 'it']\n",
        "\n",
        "filtered_data = []\n",
        "for sent in royal_data:\n",
        "    temp = []\n",
        "    for word in sent.split():\n",
        "        if word not in stopwords:\n",
        "            temp.append(word)\n",
        "    filtered_data.append(temp)\n",
        "\n",
        "print(filtered_data)\n"
      ],
      "metadata": {
        "colab": {
          "base_uri": "https://localhost:8080/"
        },
        "id": "QvfLKJ_VTTDW",
        "outputId": "d6713da3-4d5b-4dab-fe72-dbbd8d3fba0e"
      },
      "execution_count": null,
      "outputs": [
        {
          "output_type": "stream",
          "name": "stdout",
          "text": [
            "[['future', 'king', 'prince'], ['daughter', 'princess'], ['son', 'prince'], ['man', 'king'], ['woman', 'queen'], ['princess', 'queen'], ['prince', 'strong', 'man'], ['princess', 'beautiful', 'woman'], ['prince', 'boy'], ['prince', 'king'], ['boy', 'man']]\n"
          ]
        }
      ]
    },
    {
      "cell_type": "code",
      "source": [
        "bigrams = []\n",
        "for words_list in filtered_data:\n",
        "    for i in range(len(words_list) - 1):\n",
        "        for j in range(i+1, len(words_list)):\n",
        "            bigrams.append([words_list[i], words_list[j]])\n",
        "            bigrams.append([words_list[j], words_list[i]])\n",
        "\n",
        "\n",
        "print(bigrams)\n"
      ],
      "metadata": {
        "colab": {
          "base_uri": "https://localhost:8080/"
        },
        "id": "rWm4K_0ETaIL",
        "outputId": "38e972b1-3d0c-4a80-d8e7-32a9b8a94a2e"
      },
      "execution_count": null,
      "outputs": [
        {
          "output_type": "stream",
          "name": "stdout",
          "text": [
            "[['future', 'king'], ['king', 'future'], ['future', 'prince'], ['prince', 'future'], ['king', 'prince'], ['prince', 'king'], ['daughter', 'princess'], ['princess', 'daughter'], ['son', 'prince'], ['prince', 'son'], ['man', 'king'], ['king', 'man'], ['woman', 'queen'], ['queen', 'woman'], ['princess', 'queen'], ['queen', 'princess'], ['prince', 'strong'], ['strong', 'prince'], ['prince', 'man'], ['man', 'prince'], ['strong', 'man'], ['man', 'strong'], ['princess', 'beautiful'], ['beautiful', 'princess'], ['princess', 'woman'], ['woman', 'princess'], ['beautiful', 'woman'], ['woman', 'beautiful'], ['prince', 'boy'], ['boy', 'prince'], ['prince', 'king'], ['king', 'prince'], ['boy', 'man'], ['man', 'boy']]\n"
          ]
        }
      ]
    },
    {
      "cell_type": "code",
      "source": [
        "all_words = []\n",
        "for bi in bigrams:\n",
        "    all_words.extend(bi)\n",
        "\n",
        "all_words = list(set(all_words))\n",
        "all_words.sort()\n",
        "\n",
        "print(all_words)\n",
        "print(\"Total number of unique words are:\", len(all_words))"
      ],
      "metadata": {
        "colab": {
          "base_uri": "https://localhost:8080/"
        },
        "id": "3ppSCWW6TeaP",
        "outputId": "2d13692c-8d9b-486d-aaaa-89a6eef0f8b9"
      },
      "execution_count": null,
      "outputs": [
        {
          "output_type": "stream",
          "name": "stdout",
          "text": [
            "['beautiful', 'boy', 'daughter', 'future', 'king', 'man', 'prince', 'princess', 'queen', 'son', 'strong', 'woman']\n",
            "Total number of unique words are: 12\n"
          ]
        }
      ]
    },
    {
      "cell_type": "code",
      "source": [
        "words_dict = {}\n",
        "\n",
        "counter = 0\n",
        "for word in all_words:\n",
        "    words_dict[word] = counter\n",
        "    counter += 1\n",
        "\n",
        "print(words_dict)"
      ],
      "metadata": {
        "colab": {
          "base_uri": "https://localhost:8080/"
        },
        "id": "rCIj0ciOTi3l",
        "outputId": "cb6796af-9a48-4e43-fd22-b728e2659a65"
      },
      "execution_count": null,
      "outputs": [
        {
          "output_type": "stream",
          "name": "stdout",
          "text": [
            "{'beautiful': 0, 'boy': 1, 'daughter': 2, 'future': 3, 'king': 4, 'man': 5, 'prince': 6, 'princess': 7, 'queen': 8, 'son': 9, 'strong': 10, 'woman': 11}\n"
          ]
        }
      ]
    },
    {
      "cell_type": "code",
      "source": [
        "import numpy as np\n",
        "\n",
        "onehot_data = np.zeros((len(all_words), len(all_words)))\n",
        "\n",
        "for i in range(len(all_words)):\n",
        "    onehot_data[i][i] = 1\n",
        "\n",
        "onehot_dict = {}\n",
        "counter = 0\n",
        "for word in all_words:\n",
        "    onehot_dict[word] = onehot_data[counter]\n",
        "    counter += 1\n",
        "\n",
        "for word in onehot_dict:\n",
        "    print(word, \":\", onehot_dict[word])"
      ],
      "metadata": {
        "colab": {
          "base_uri": "https://localhost:8080/"
        },
        "id": "IfCGg696TpYs",
        "outputId": "cc339356-fa35-4986-f57e-34364a417844"
      },
      "execution_count": null,
      "outputs": [
        {
          "output_type": "stream",
          "name": "stdout",
          "text": [
            "beautiful : [1. 0. 0. 0. 0. 0. 0. 0. 0. 0. 0. 0.]\n",
            "boy : [0. 1. 0. 0. 0. 0. 0. 0. 0. 0. 0. 0.]\n",
            "daughter : [0. 0. 1. 0. 0. 0. 0. 0. 0. 0. 0. 0.]\n",
            "future : [0. 0. 0. 1. 0. 0. 0. 0. 0. 0. 0. 0.]\n",
            "king : [0. 0. 0. 0. 1. 0. 0. 0. 0. 0. 0. 0.]\n",
            "man : [0. 0. 0. 0. 0. 1. 0. 0. 0. 0. 0. 0.]\n",
            "prince : [0. 0. 0. 0. 0. 0. 1. 0. 0. 0. 0. 0.]\n",
            "princess : [0. 0. 0. 0. 0. 0. 0. 1. 0. 0. 0. 0.]\n",
            "queen : [0. 0. 0. 0. 0. 0. 0. 0. 1. 0. 0. 0.]\n",
            "son : [0. 0. 0. 0. 0. 0. 0. 0. 0. 1. 0. 0.]\n",
            "strong : [0. 0. 0. 0. 0. 0. 0. 0. 0. 0. 1. 0.]\n",
            "woman : [0. 0. 0. 0. 0. 0. 0. 0. 0. 0. 0. 1.]\n"
          ]
        }
      ]
    },
    {
      "cell_type": "code",
      "source": [
        "X = []\n",
        "Y = []\n",
        "\n",
        "for bi in bigrams:\n",
        "    X.append(onehot_dict[bi[0]])\n",
        "    Y.append(onehot_dict[bi[1]])\n",
        "\n",
        "X = np.array(X)\n",
        "Y = np.array(Y)"
      ],
      "metadata": {
        "id": "eL4LPLx5Tq4i"
      },
      "execution_count": null,
      "outputs": []
    },
    {
      "cell_type": "code",
      "source": [
        "from keras.models import Sequential\n",
        "from keras.layers import Dense\n",
        "\n",
        "embed_size = 2\n",
        "\n",
        "model = Sequential([\n",
        "    Dense(embed_size, activation='linear'),\n",
        "    Dense(Y.shape[1], activation = 'softmax')\n",
        "])\n",
        "\n",
        "model.compile(loss = 'categorical_crossentropy', optimizer = 'adam')"
      ],
      "metadata": {
        "id": "21zngmPbTvl_"
      },
      "execution_count": null,
      "outputs": []
    },
    {
      "cell_type": "code",
      "source": [
        "\n",
        "model.fit(X, Y, epochs = 1000, batch_size = 256, verbose = False)"
      ],
      "metadata": {
        "colab": {
          "base_uri": "https://localhost:8080/"
        },
        "id": "P5qvg1fxT1Oi",
        "outputId": "68c8414d-0eb5-40a3-9897-481085588ceb"
      },
      "execution_count": null,
      "outputs": [
        {
          "output_type": "execute_result",
          "data": {
            "text/plain": [
              "<keras.src.callbacks.History at 0x7837f833d2d0>"
            ]
          },
          "metadata": {},
          "execution_count": 10
        }
      ]
    },
    {
      "cell_type": "code",
      "source": [
        "weights = model.get_weights()[0]\n",
        "\n",
        "word_embeddings = {}\n",
        "for word in all_words:\n",
        "    word_embeddings[word] = weights[words_dict[word]]\n",
        "\n",
        "    print(word_embeddings)"
      ],
      "metadata": {
        "colab": {
          "base_uri": "https://localhost:8080/"
        },
        "id": "P2kPHaJhT9fO",
        "outputId": "68cf0eef-3e84-4ec2-c989-792277d1de62"
      },
      "execution_count": null,
      "outputs": [
        {
          "output_type": "stream",
          "name": "stdout",
          "text": [
            "{'beautiful': array([ 1.3273438 , -0.94641095], dtype=float32)}\n",
            "{'beautiful': array([ 1.3273438 , -0.94641095], dtype=float32), 'boy': array([-0.37080944,  0.6434634 ], dtype=float32)}\n",
            "{'beautiful': array([ 1.3273438 , -0.94641095], dtype=float32), 'boy': array([-0.37080944,  0.6434634 ], dtype=float32), 'daughter': array([ 0.71460116, -0.35900772], dtype=float32)}\n",
            "{'beautiful': array([ 1.3273438 , -0.94641095], dtype=float32), 'boy': array([-0.37080944,  0.6434634 ], dtype=float32), 'daughter': array([ 0.71460116, -0.35900772], dtype=float32), 'future': array([-0.89065677,  0.09349114], dtype=float32)}\n",
            "{'beautiful': array([ 1.3273438 , -0.94641095], dtype=float32), 'boy': array([-0.37080944,  0.6434634 ], dtype=float32), 'daughter': array([ 0.71460116, -0.35900772], dtype=float32), 'future': array([-0.89065677,  0.09349114], dtype=float32), 'king': array([-0.4518992,  0.8213722], dtype=float32)}\n",
            "{'beautiful': array([ 1.3273438 , -0.94641095], dtype=float32), 'boy': array([-0.37080944,  0.6434634 ], dtype=float32), 'daughter': array([ 0.71460116, -0.35900772], dtype=float32), 'future': array([-0.89065677,  0.09349114], dtype=float32), 'king': array([-0.4518992,  0.8213722], dtype=float32), 'man': array([-1.6944968 , -0.36285833], dtype=float32)}\n",
            "{'beautiful': array([ 1.3273438 , -0.94641095], dtype=float32), 'boy': array([-0.37080944,  0.6434634 ], dtype=float32), 'daughter': array([ 0.71460116, -0.35900772], dtype=float32), 'future': array([-0.89065677,  0.09349114], dtype=float32), 'king': array([-0.4518992,  0.8213722], dtype=float32), 'man': array([-1.6944968 , -0.36285833], dtype=float32), 'prince': array([-1.212021  , -0.75490326], dtype=float32)}\n",
            "{'beautiful': array([ 1.3273438 , -0.94641095], dtype=float32), 'boy': array([-0.37080944,  0.6434634 ], dtype=float32), 'daughter': array([ 0.71460116, -0.35900772], dtype=float32), 'future': array([-0.89065677,  0.09349114], dtype=float32), 'king': array([-0.4518992,  0.8213722], dtype=float32), 'man': array([-1.6944968 , -0.36285833], dtype=float32), 'prince': array([-1.212021  , -0.75490326], dtype=float32), 'princess': array([ 1.3714162, -1.1553739], dtype=float32)}\n",
            "{'beautiful': array([ 1.3273438 , -0.94641095], dtype=float32), 'boy': array([-0.37080944,  0.6434634 ], dtype=float32), 'daughter': array([ 0.71460116, -0.35900772], dtype=float32), 'future': array([-0.89065677,  0.09349114], dtype=float32), 'king': array([-0.4518992,  0.8213722], dtype=float32), 'man': array([-1.6944968 , -0.36285833], dtype=float32), 'prince': array([-1.212021  , -0.75490326], dtype=float32), 'princess': array([ 1.3714162, -1.1553739], dtype=float32), 'queen': array([ 1.434315 , -1.3152668], dtype=float32)}\n",
            "{'beautiful': array([ 1.3273438 , -0.94641095], dtype=float32), 'boy': array([-0.37080944,  0.6434634 ], dtype=float32), 'daughter': array([ 0.71460116, -0.35900772], dtype=float32), 'future': array([-0.89065677,  0.09349114], dtype=float32), 'king': array([-0.4518992,  0.8213722], dtype=float32), 'man': array([-1.6944968 , -0.36285833], dtype=float32), 'prince': array([-1.212021  , -0.75490326], dtype=float32), 'princess': array([ 1.3714162, -1.1553739], dtype=float32), 'queen': array([ 1.434315 , -1.3152668], dtype=float32), 'son': array([-0.90613115,  1.3924829 ], dtype=float32)}\n",
            "{'beautiful': array([ 1.3273438 , -0.94641095], dtype=float32), 'boy': array([-0.37080944,  0.6434634 ], dtype=float32), 'daughter': array([ 0.71460116, -0.35900772], dtype=float32), 'future': array([-0.89065677,  0.09349114], dtype=float32), 'king': array([-0.4518992,  0.8213722], dtype=float32), 'man': array([-1.6944968 , -0.36285833], dtype=float32), 'prince': array([-1.212021  , -0.75490326], dtype=float32), 'princess': array([ 1.3714162, -1.1553739], dtype=float32), 'queen': array([ 1.434315 , -1.3152668], dtype=float32), 'son': array([-0.90613115,  1.3924829 ], dtype=float32), 'strong': array([-0.021054,  1.276754], dtype=float32)}\n",
            "{'beautiful': array([ 1.3273438 , -0.94641095], dtype=float32), 'boy': array([-0.37080944,  0.6434634 ], dtype=float32), 'daughter': array([ 0.71460116, -0.35900772], dtype=float32), 'future': array([-0.89065677,  0.09349114], dtype=float32), 'king': array([-0.4518992,  0.8213722], dtype=float32), 'man': array([-1.6944968 , -0.36285833], dtype=float32), 'prince': array([-1.212021  , -0.75490326], dtype=float32), 'princess': array([ 1.3714162, -1.1553739], dtype=float32), 'queen': array([ 1.434315 , -1.3152668], dtype=float32), 'son': array([-0.90613115,  1.3924829 ], dtype=float32), 'strong': array([-0.021054,  1.276754], dtype=float32), 'woman': array([ 1.1733022 , -0.49832454], dtype=float32)}\n"
          ]
        }
      ]
    },
    {
      "cell_type": "code",
      "source": [
        "import matplotlib.pyplot as plt\n",
        "\n",
        "# plt.figure(figsize = (10, 10))\n",
        "for word in list(words_dict.keys()):\n",
        "    coord = word_embeddings.get(word)\n",
        "    plt.scatter(coord[0], coord[1])\n",
        "    plt.annotate(word, (coord[0], coord[1]))\n",
        "\n",
        "plt.savefig('img.jpg')"
      ],
      "metadata": {
        "id": "HCFubrnfUJRs",
        "outputId": "f82e7ec3-cc45-41bb-e77a-853240bcde64",
        "colab": {
          "base_uri": "https://localhost:8080/",
          "height": 432
        }
      },
      "execution_count": null,
      "outputs": [
        {
          "output_type": "display_data",
          "data": {
            "text/plain": [
              "<Figure size 640x480 with 1 Axes>"
            ],
            "image/png": "[encoded data removed]"
          },
          "metadata": {}
        }
      ]
    },
    {
      "cell_type": "markdown",
      "source": [
        
      ],
      "metadata": {
        "id": "VXcOiu18SE5u"
      }
    }
  ]
}
